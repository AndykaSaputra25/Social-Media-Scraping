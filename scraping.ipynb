{
 "cells": [
  {
   "cell_type": "code",
   "execution_count": 1,
   "id": "3c3ed49e",
   "metadata": {},
   "outputs": [],
   "source": [
    "import pandas as pd\n",
    "from bs4 import BeautifulSoup\n",
    "from selenium import webdriver\n",
    "from selenium.webdriver.common.by import By\n",
    "import urllib.request \n",
    "import time\n",
    "import re"
   ]
  },
  {
   "cell_type": "markdown",
   "id": "123b2c8f",
   "metadata": {},
   "source": [
    "#### Uji link web melalui chrome"
   ]
  },
  {
   "cell_type": "code",
   "execution_count": 2,
   "id": "dd60b4ba",
   "metadata": {},
   "outputs": [],
   "source": [
    "driver = webdriver.Chrome()\n",
    "driver.get('https://www.instagram.com/infogresik/')"
   ]
  },
  {
   "cell_type": "markdown",
   "id": "1184bcc4",
   "metadata": {},
   "source": [
    "#### Akses web sampai page bawah"
   ]
  },
  {
   "cell_type": "code",
   "execution_count": 3,
   "id": "9140906b",
   "metadata": {},
   "outputs": [],
   "source": [
    "lenPage = driver.execute_script(\"window.scrollTo(0,document.body.scrollHeight); var lenPage = document.body.scrollHeight; return lenPage;\")\n",
    "match = False\n",
    "while(match==False):\n",
    "    lastCount = lenPage\n",
    "    time.sleep(3)\n",
    "    lenPage = driver.execute_script(\"window.scrollTo(0,document.body.scrollHeight); var lenPage = document.body.scrollHeight; return lenPage;\")\n",
    "    if lastCount == lenPage:\n",
    "        match=True"
   ]
  },
  {
   "cell_type": "markdown",
   "id": "38da722a",
   "metadata": {},
   "source": [
    "#### Scrape postingan beserta caption"
   ]
  },
  {
   "cell_type": "code",
   "execution_count": 4,
   "id": "ecc2aa2a",
   "metadata": {},
   "outputs": [],
   "source": [
    "#create empty list\n",
    "posts = []\n",
    "capt_res = []\n",
    "texts = []\n",
    "\n",
    "links = driver.find_elements(by=By.TAG_NAME, value='a')\n",
    "for link in links:\n",
    "    post = link.get_attribute('href')\n",
    "    if '/p/' in post:\n",
    "        posts.append(post)\n",
    "        \n",
    "content = driver.page_source\n",
    "soup = BeautifulSoup(content, features='html.parser')\n",
    "for ph_name in soup.find_all(attrs='KL4Bh'):\n",
    "    caption = ph_name.find('img', {'src':re.compile('https:')})\n",
    "    if caption not in capt_res:\n",
    "        capt_res.append(str(caption))\n",
    "        \n",
    "for text in capt_res:\n",
    "    pisah = text.split('alt=\"')\n",
    "    pisah2 = pisah[1].split('\"')\n",
    "    texts.append(pisah2[0])"
   ]
  },
  {
   "cell_type": "markdown",
   "id": "be5fe974",
   "metadata": {},
   "source": [
    "#### Save to CSV"
   ]
  },
  {
   "cell_type": "code",
   "execution_count": 5,
   "id": "5d621612",
   "metadata": {},
   "outputs": [],
   "source": [
    "df = pd.DataFrame({'Postingan': posts, 'caption' : texts})\n",
    "df.to_csv('instagram.csv', index=False, encoding='utf-8')"
   ]
  },
  {
   "cell_type": "markdown",
   "id": "a130fdbe",
   "metadata": {},
   "source": [
    "#### Download postingan agar berupa gambar bukan link"
   ]
  },
  {
   "cell_type": "code",
   "execution_count": 6,
   "id": "781e45b7",
   "metadata": {},
   "outputs": [],
   "source": [
    "download_url = ''\n",
    "for post in posts:\n",
    "    driver.get(post)\n",
    "    shortcode = driver.current_url.split(\"/\")[-2]\n",
    "    type = driver.find_element(by=By.XPATH, value='//meta[@property=\"og:type\"]').get_attribute(\"content\")\n",
    "    if type == 'video':\n",
    "        download_url = driver.find_element_by_xpath('//meta[@property=\"og:video\"]').get_attribute(\"content\")\n",
    "        urllib.request.urlretrieve(download_url, \"{}.mp4\".format(shortcode))\n",
    "    else:\n",
    "        download_url = driver.find_element(by=By.XPATH, value='//meta[@property=\"og:image\"]').get_attribute(\"content\")\n",
    "        urllib.request.urlretrieve(download_url, \"{}.jpg\".format(shortcode))"
   ]
  },
  {
   "cell_type": "code",
   "execution_count": null,
   "id": "3ee91044",
   "metadata": {},
   "outputs": [],
   "source": []
  }
 ],
 "metadata": {
  "kernelspec": {
   "display_name": "Python 3 (ipykernel)",
   "language": "python",
   "name": "python3"
  },
  "language_info": {
   "codemirror_mode": {
    "name": "ipython",
    "version": 3
   },
   "file_extension": ".py",
   "mimetype": "text/x-python",
   "name": "python",
   "nbconvert_exporter": "python",
   "pygments_lexer": "ipython3",
   "version": "3.9.12"
  }
 },
 "nbformat": 4,
 "nbformat_minor": 5
}
